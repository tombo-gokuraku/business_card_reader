{
 "cells": [
  {
   "cell_type": "code",
   "execution_count": 5,
   "metadata": {},
   "outputs": [],
   "source": [
    "import jsonlines\n",
    "piyo = {\n",
    "    'test':'hoge',\n",
    "    'list':[1,2,3,4,5,6],\n",
    "    'tuple':(8,5,1,3,4,1),\n",
    "    'dict':{'foo':'bar','piyo':'hoge',},\n",
    "}\n",
    "\n",
    "with jsonlines.open('test.jl',mode='w') as writer:\n",
    "    writer.write(piyo)"
   ]
  },
  {
   "cell_type": "code",
   "execution_count": 9,
   "metadata": {},
   "outputs": [],
   "source": [
    "import io\n",
    "import json\n",
    "path = 'test.json'\n",
    "\n",
    "with io.open(path, 'w') as file:\n",
    "    json.dump(piyo,file)"
   ]
  }
 ],
 "metadata": {
  "kernelspec": {
   "display_name": "Python 3",
   "language": "python",
   "name": "python3"
  },
  "language_info": {
   "codemirror_mode": {
    "name": "ipython",
    "version": 3
   },
   "file_extension": ".py",
   "mimetype": "text/x-python",
   "name": "python",
   "nbconvert_exporter": "python",
   "pygments_lexer": "ipython3",
   "version": "3.5.2"
  }
 },
 "nbformat": 4,
 "nbformat_minor": 2
}

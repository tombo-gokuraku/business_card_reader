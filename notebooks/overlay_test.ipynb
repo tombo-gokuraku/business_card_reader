{
 "cells": [
  {
   "cell_type": "code",
   "execution_count": 1,
   "metadata": {},
   "outputs": [
    {
     "data": {
      "text/plain": [
       "True"
      ]
     },
     "execution_count": 1,
     "metadata": {},
     "output_type": "execute_result"
    }
   ],
   "source": [
    "import cv2\n",
    "\n",
    "image_path = '../images/001.jpg'\n",
    "alpha = 0.3\n",
    "image = cv2.imread(image_path)\n",
    "overlay = image.copy()\n",
    "output = image.copy()\n",
    "\n",
    "cv2.rectangle(overlay,(10,20),(30,40),(0,255,0),-1)\n",
    "cv2.rectangle(overlay,(37,50),(70,79),(0,255,0),-1)\n",
    "cv2.addWeighted(overlay, alpha, output, 1 - alpha,0, output)\n",
    "cv2.imwrite('../images/overlay_test.jpg',output)\n",
    "#cv2.imshow('output',output)\n",
    "#cv2.waitKey(0)\n",
    "#cv2.destroyAllWindows()"
   ]
  }
 ],
 "metadata": {
  "kernelspec": {
   "display_name": "Python 3",
   "language": "python",
   "name": "python3"
  },
  "language_info": {
   "codemirror_mode": {
    "name": "ipython",
    "version": 3
   },
   "file_extension": ".py",
   "mimetype": "text/x-python",
   "name": "python",
   "nbconvert_exporter": "python",
   "pygments_lexer": "ipython3",
   "version": "3.5.2"
  }
 },
 "nbformat": 4,
 "nbformat_minor": 2
}
